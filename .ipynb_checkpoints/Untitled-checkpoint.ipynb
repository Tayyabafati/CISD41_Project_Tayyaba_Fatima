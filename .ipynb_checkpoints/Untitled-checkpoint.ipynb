{
 "cells": [
  {
   "cell_type": "markdown",
   "id": "1d423ceb",
   "metadata": {},
   "source": [
    "#### Topic: US.Regional Analysis of Medical Insurance cost\n",
    "##### Files: CIS41_Project\n",
    "###### Name : Tayyaba Fatima\n",
    "\n",
    "**Tasks:\n",
    "EDA - pivot table, groupby table,countplot,histogram, FacetGrid,Regplot, pairplot, lmplot,iplot or plotly, boxplot, violinplot,barplot, countplot,swarmplot,heatmap,ECDF\n",
    "Hypothesis Testing -ANOVA,Chi-squared,Normal-Test, pearson-correlation-coefficient,Z-Test\n",
    "Conclusion (findings)\n",
    "Summary:\n",
    "1. This is a data of 1338 people for medical insurance in which most of them have age below 20.\n",
    "2. Female smoke less than the male\n",
    "3. There are more young males than young females whereas there are more old female than young male\n",
    "4. If a person is smoker then their charges increased as smoking is  positively correlated with the charges.\n",
    "5. South east region have maximum number of people who smoke where as Northeast have less smokers out of 4 regions.\n",
    "6. South east region have maximum people with 0 children.\n",
    "7. South east region have 0 people with 5 children.That mean this region have more young people.\n",
    "8. Children and charges have weak relationship.\n",
    "9. People who have no children smokes more may be that's why there charges are more\n",
    "10. BMI and Age have little effect on charges as it has weak strong relationship with charges.\n",
    "11. Charges and sex have negative relationship.\n",
    "12. The data shows that having more children does'nt increase charges.\n",
    "13. People who have no children smokes more may be that's why there charges are more\n",
    "14. 70% percent charges are between 10,000 to 20,000 in all the regions\n",
    "15. Out of All the four regions South east people have more charges.\n"
   ]
  },
  {
   "cell_type": "code",
   "execution_count": null,
   "id": "f9e3ad3e",
   "metadata": {},
   "outputs": [],
   "source": []
  }
 ],
 "metadata": {
  "kernelspec": {
   "display_name": "Python 3 (ipykernel)",
   "language": "python",
   "name": "python3"
  },
  "language_info": {
   "codemirror_mode": {
    "name": "ipython",
    "version": 3
   },
   "file_extension": ".py",
   "mimetype": "text/x-python",
   "name": "python",
   "nbconvert_exporter": "python",
   "pygments_lexer": "ipython3",
   "version": "3.9.12"
  }
 },
 "nbformat": 4,
 "nbformat_minor": 5
}
